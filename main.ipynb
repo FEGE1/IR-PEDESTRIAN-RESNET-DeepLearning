{
 "cells": [
  {
   "cell_type": "code",
   "execution_count": 58,
   "metadata": {},
   "outputs": [],
   "source": [
    "import torch\n",
    "import torch.nn as nn\n",
    "import torch.nn.functional as F\n",
    "import torch.optim as optim\n",
    "from PIL import Image\n",
    "import matplotlib.pyplot as plt\n",
    "import numpy as np\n",
    "import os\n",
    "from pathlib import Path\n",
    "import time"
   ]
  },
  {
   "cell_type": "code",
   "execution_count": 59,
   "metadata": {},
   "outputs": [
    {
     "name": "stdout",
     "output_type": "stream",
     "text": [
      "MPS (GPU) kullanılacak.\n"
     ]
    }
   ],
   "source": [
    "# GPU desteği var mı kontrol et\n",
    "if torch.backends.mps.is_available():\n",
    "    device = torch.device(\"mps\")  # Apple Metal GPU backend\n",
    "    print(\"MPS (GPU) kullanılacak.\")\n",
    "else:\n",
    "    device = torch.device(\"cpu\")\n",
    "    print(\"GPU desteklenmiyor, CPU kullanılacak.\")"
   ]
  },
  {
   "cell_type": "code",
   "execution_count": 60,
   "metadata": {},
   "outputs": [],
   "source": [
    "def read_images(path, num_img):\n",
    "    array = np.zeros((num_img, 64*32))\n",
    "    i = 0\n",
    "    for img in os.listdir(path):\n",
    "        img_path = path + '/' + img\n",
    "        img = Image.open(img_path, mode= 'r')\n",
    "        data = np.asanyarray(img, dtype= 'uint8')\n",
    "        data = data.flatten()\n",
    "        array[i,:] = data\n",
    "        i += 1\n",
    "    return array"
   ]
  },
  {
   "cell_type": "markdown",
   "metadata": {},
   "source": [
    "<h3>Negatives"
   ]
  },
  {
   "cell_type": "code",
   "execution_count": 61,
   "metadata": {},
   "outputs": [],
   "source": [
    "train_negative_path = r'Data/LSIFIR/Classification/Train/neg'\n",
    "num_train_negative_img = 43390"
   ]
  },
  {
   "cell_type": "code",
   "execution_count": 62,
   "metadata": {},
   "outputs": [
    {
     "ename": "KeyboardInterrupt",
     "evalue": "",
     "output_type": "error",
     "traceback": [
      "\u001b[0;31m---------------------------------------------------------------------------\u001b[0m",
      "\u001b[0;31mKeyboardInterrupt\u001b[0m                         Traceback (most recent call last)",
      "Cell \u001b[0;32mIn[62], line 1\u001b[0m\n\u001b[0;32m----> 1\u001b[0m train_negative_array \u001b[38;5;241m=\u001b[39m \u001b[43mread_images\u001b[49m\u001b[43m(\u001b[49m\u001b[43mtrain_negative_path\u001b[49m\u001b[43m,\u001b[49m\u001b[43m \u001b[49m\u001b[43mnum_train_negative_img\u001b[49m\u001b[43m)\u001b[49m\n",
      "Cell \u001b[0;32mIn[60], line 7\u001b[0m, in \u001b[0;36mread_images\u001b[0;34m(path, num_img)\u001b[0m\n\u001b[1;32m      5\u001b[0m img_path \u001b[38;5;241m=\u001b[39m path \u001b[38;5;241m+\u001b[39m \u001b[38;5;124m'\u001b[39m\u001b[38;5;124m/\u001b[39m\u001b[38;5;124m'\u001b[39m \u001b[38;5;241m+\u001b[39m img\n\u001b[1;32m      6\u001b[0m img \u001b[38;5;241m=\u001b[39m Image\u001b[38;5;241m.\u001b[39mopen(img_path, mode\u001b[38;5;241m=\u001b[39m \u001b[38;5;124m'\u001b[39m\u001b[38;5;124mr\u001b[39m\u001b[38;5;124m'\u001b[39m)\n\u001b[0;32m----> 7\u001b[0m data \u001b[38;5;241m=\u001b[39m \u001b[43mnp\u001b[49m\u001b[38;5;241;43m.\u001b[39;49m\u001b[43masanyarray\u001b[49m\u001b[43m(\u001b[49m\u001b[43mimg\u001b[49m\u001b[43m,\u001b[49m\u001b[43m \u001b[49m\u001b[43mdtype\u001b[49m\u001b[38;5;241;43m=\u001b[39;49m\u001b[43m \u001b[49m\u001b[38;5;124;43m'\u001b[39;49m\u001b[38;5;124;43muint8\u001b[39;49m\u001b[38;5;124;43m'\u001b[39;49m\u001b[43m)\u001b[49m\n\u001b[1;32m      8\u001b[0m data \u001b[38;5;241m=\u001b[39m data\u001b[38;5;241m.\u001b[39mflatten()\n\u001b[1;32m      9\u001b[0m array[i,:] \u001b[38;5;241m=\u001b[39m data\n",
      "File \u001b[0;32m~/Documents/python_env2/env/lib/python3.12/site-packages/PIL/Image.py:686\u001b[0m, in \u001b[0;36mImage.__array_interface__\u001b[0;34m(self)\u001b[0m\n\u001b[1;32m    680\u001b[0m \u001b[38;5;250m    \u001b[39m\u001b[38;5;124;03m\"\"\"iPython display hook support for JPEG format.\u001b[39;00m\n\u001b[1;32m    681\u001b[0m \n\u001b[1;32m    682\u001b[0m \u001b[38;5;124;03m    :returns: JPEG version of the image as bytes\u001b[39;00m\n\u001b[1;32m    683\u001b[0m \u001b[38;5;124;03m    \"\"\"\u001b[39;00m\n\u001b[1;32m    684\u001b[0m     \u001b[38;5;28;01mreturn\u001b[39;00m \u001b[38;5;28mself\u001b[39m\u001b[38;5;241m.\u001b[39m_repr_image(\u001b[38;5;124m\"\u001b[39m\u001b[38;5;124mJPEG\u001b[39m\u001b[38;5;124m\"\u001b[39m)\n\u001b[0;32m--> 686\u001b[0m \u001b[38;5;129m@property\u001b[39m\n\u001b[1;32m    687\u001b[0m \u001b[38;5;28;01mdef\u001b[39;00m \u001b[38;5;21m__array_interface__\u001b[39m(\u001b[38;5;28mself\u001b[39m):\n\u001b[1;32m    688\u001b[0m     \u001b[38;5;66;03m# numpy array interface support\u001b[39;00m\n\u001b[1;32m    689\u001b[0m     new \u001b[38;5;241m=\u001b[39m {\u001b[38;5;124m\"\u001b[39m\u001b[38;5;124mversion\u001b[39m\u001b[38;5;124m\"\u001b[39m: \u001b[38;5;241m3\u001b[39m}\n\u001b[1;32m    690\u001b[0m     \u001b[38;5;28;01mtry\u001b[39;00m:\n",
      "\u001b[0;31mKeyboardInterrupt\u001b[0m: "
     ]
    }
   ],
   "source": [
    "train_negative_array = read_images(train_negative_path, num_train_negative_img)"
   ]
  },
  {
   "cell_type": "code",
   "execution_count": null,
   "metadata": {},
   "outputs": [],
   "source": [
    "x_train_negative_tensor = torch.from_numpy(train_negative_array)"
   ]
  },
  {
   "cell_type": "code",
   "execution_count": null,
   "metadata": {},
   "outputs": [],
   "source": [
    "y_train_negative_tensor = torch.zeros(num_train_negative_img, dtype= torch.long)"
   ]
  },
  {
   "cell_type": "markdown",
   "metadata": {},
   "source": [
    "<h3>Positives"
   ]
  },
  {
   "cell_type": "code",
   "execution_count": null,
   "metadata": {},
   "outputs": [],
   "source": [
    "train_positive_path = r'Data/LSIFIR/Classification/Train/pos'\n",
    "num_train_positive_img = 10208"
   ]
  },
  {
   "cell_type": "code",
   "execution_count": null,
   "metadata": {},
   "outputs": [],
   "source": [
    "train_positive_array = read_images(train_positive_path, num_train_positive_img)"
   ]
  },
  {
   "cell_type": "code",
   "execution_count": null,
   "metadata": {},
   "outputs": [],
   "source": [
    "x_train_positive_tensor = torch.from_numpy(train_positive_array)"
   ]
  },
  {
   "cell_type": "code",
   "execution_count": null,
   "metadata": {},
   "outputs": [],
   "source": [
    "y_train_positive_tensor = torch.ones(num_train_positive_img, dtype= torch.long)"
   ]
  },
  {
   "cell_type": "markdown",
   "metadata": {},
   "source": [
    "<h3>Concat Train"
   ]
  },
  {
   "cell_type": "code",
   "execution_count": null,
   "metadata": {},
   "outputs": [],
   "source": [
    "x_train = torch.cat((x_train_negative_tensor,x_train_positive_tensor),0)\n",
    "y_train = torch.cat((y_train_negative_tensor,y_train_positive_tensor),0)"
   ]
  },
  {
   "cell_type": "code",
   "execution_count": null,
   "metadata": {},
   "outputs": [
    {
     "name": "stdout",
     "output_type": "stream",
     "text": [
      "x_train:  torch.Size([53598, 2048])\n",
      "y_train:  torch.Size([53598])\n"
     ]
    }
   ],
   "source": [
    "print(\"x_train: \",x_train.size())\n",
    "print(\"y_train: \",y_train.size())"
   ]
  },
  {
   "cell_type": "markdown",
   "metadata": {},
   "source": [
    "<h3>Test Negative"
   ]
  },
  {
   "cell_type": "code",
   "execution_count": null,
   "metadata": {},
   "outputs": [],
   "source": [
    "test_negative_path = r'Data/LSIFIR/Classification/Test/neg'\n",
    "num_test_negative_img = 22050"
   ]
  },
  {
   "cell_type": "code",
   "execution_count": null,
   "metadata": {},
   "outputs": [],
   "source": [
    "test_negative_array = read_images(test_negative_path,num_test_negative_img)"
   ]
  },
  {
   "cell_type": "code",
   "execution_count": null,
   "metadata": {},
   "outputs": [],
   "source": [
    "x_test_negative_tensor = torch.tensor(test_negative_array[:20855,:])\n",
    "y_test_negative_tensor = torch.zeros(20855, dtype= torch.long)"
   ]
  },
  {
   "cell_type": "markdown",
   "metadata": {},
   "source": [
    "<h3>Test Positive"
   ]
  },
  {
   "cell_type": "code",
   "execution_count": null,
   "metadata": {},
   "outputs": [],
   "source": [
    "test_positive_path = r'Data/LSIFIR/Classification/Test/pos'\n",
    "num_test_positive_img = 5944"
   ]
  },
  {
   "cell_type": "code",
   "execution_count": null,
   "metadata": {},
   "outputs": [],
   "source": [
    "test_positive_array = read_images(test_positive_path,num_test_positive_img)"
   ]
  },
  {
   "cell_type": "code",
   "execution_count": null,
   "metadata": {},
   "outputs": [],
   "source": [
    "x_test_positive_tensor = torch.tensor(test_positive_array)\n",
    "y_test_positive_tensor = torch.ones(num_test_positive_img, dtype=torch.long)"
   ]
  },
  {
   "cell_type": "markdown",
   "metadata": {},
   "source": [
    "<h3>Concat Test"
   ]
  },
  {
   "cell_type": "code",
   "execution_count": null,
   "metadata": {},
   "outputs": [],
   "source": [
    "x_test = torch.cat((x_test_negative_tensor, x_test_positive_tensor), 0)\n",
    "y_test = torch.cat((y_test_negative_tensor, y_test_positive_tensor), 0)"
   ]
  },
  {
   "cell_type": "code",
   "execution_count": null,
   "metadata": {},
   "outputs": [
    {
     "data": {
      "text/plain": [
       "<matplotlib.image.AxesImage at 0x129d95940>"
      ]
     },
     "execution_count": 34,
     "metadata": {},
     "output_type": "execute_result"
    },
    {
     "data": {
      "image/png": "[encoded data removed]",
      "text/plain": [
       "<Figure size 640x480 with 1 Axes>"
      ]
     },
     "metadata": {},
     "output_type": "display_data"
    }
   ],
   "source": [
    "plt.imshow(x_train[49001,:].reshape(64,32,), cmap='gray')"
   ]
  },
  {
   "cell_type": "markdown",
   "metadata": {},
   "source": [
    "<h1>CNN"
   ]
  },
  {
   "cell_type": "code",
   "execution_count": null,
   "metadata": {},
   "outputs": [],
   "source": [
    "#Hyperparameter\n",
    "num_epochs = 5000\n",
    "num_classes = 2\n",
    "batch_size = 8933\n",
    "learning_rate = 0.00001"
   ]
  },
  {
   "cell_type": "code",
   "execution_count": null,
   "metadata": {},
   "outputs": [],
   "source": [
    "class Net(nn.Module):\n",
    "    def __init__(self):\n",
    "        super(Net,self).__init__()\n",
    "\n",
    "        self.conv1 = nn.Conv2d(1,10,5)\n",
    "        self.pool = nn.MaxPool2d(2,2)\n",
    "        self.conv2 = nn.Conv2d(10,16,5)\n",
    "\n",
    "        self.fc1 = nn.Linear(16*13*5,520)\n",
    "        self.fc2 = nn.Linear(520,130)\n",
    "        self.fc3 = nn.Linear(130,num_classes)\n",
    "\n",
    "    def forward(self,x):  # x inputumuz\n",
    "\n",
    "        x = self.pool(F.relu(self.conv1(x))) #conv katmanından sonra RELU, sonrada Pooling yaptık\n",
    "        x = self.pool(F.relu(self.conv2(x)))\n",
    "\n",
    "        x = x.view(-1,16*13*5)\n",
    "        x = F.relu(self.fc1(x)) \n",
    "        x = F.relu(self.fc2(x))\n",
    "        x = F.relu(self.fc3(x))  \n",
    "        \n",
    "        return x"
   ]
  },
  {
   "cell_type": "code",
   "execution_count": null,
   "metadata": {},
   "outputs": [],
   "source": [
    "train = torch.utils.data.TensorDataset(x_train, y_train) # Train verilerimizi Troch için uygun formata getirme\n",
    "trainloader = torch.utils.data.DataLoader(train,batch_size= batch_size, shuffle=True ) # Uygun formata getirilmiş train setimizi hyperparametreler ile initialize etme\n",
    "\n",
    "test = torch.utils.data.TensorDataset(x_train, y_train) # Train verilerimizi Troch için uygun formata getirme\n",
    "testloader = torch.utils.data.DataLoader(test,batch_size= batch_size, shuffle=False ) # Uygun formata getirilmiş train setimizi hyperparametreler ile initialize etme"
   ]
  },
  {
   "cell_type": "code",
   "execution_count": null,
   "metadata": {},
   "outputs": [],
   "source": [
    "net = Net().to(device=device)  # to fonksiyonu modeli GPUda çalıştırmak için"
   ]
  },
  {
   "cell_type": "code",
   "execution_count": null,
   "metadata": {},
   "outputs": [],
   "source": [
    "# Loss and Optimizer\n",
    "\n",
    "criterion = nn.CrossEntropyLoss()\n",
    "\n",
    "optimizer = optim.SGD(net.parameters(), lr= learning_rate, momentum= 0.8)"
   ]
  },
  {
   "cell_type": "markdown",
   "metadata": {},
   "source": [
    "<h1 style=\"color:red;\"> Train Section"
   ]
  },
  {
   "cell_type": "code",
   "execution_count": 64,
   "metadata": {},
   "outputs": [
    {
     "name": "stdout",
     "output_type": "stream",
     "text": [
      "epoch: 1/5000\n",
      "Test accuracy:  80.94705026306951\n",
      "Train accuracy:  80.94331878055151\n",
      "epoch: 2/5000\n",
      "Test accuracy:  80.95451322810553\n",
      "Train accuracy:  80.95451322810553\n",
      "epoch: 3/5000\n",
      "Test accuracy:  80.94705026306951\n",
      "Train accuracy:  80.94331878055151\n",
      "epoch: 4/5000\n",
      "Test accuracy:  80.95451322810553\n",
      "Train accuracy:  80.95451322810553\n",
      "epoch: 5/5000\n",
      "Test accuracy:  80.95451322810553\n",
      "Train accuracy:  80.95451322810553\n",
      "epoch: 6/5000\n",
      "Test accuracy:  80.94705026306951\n",
      "Train accuracy:  80.95078174558752\n",
      "epoch: 7/5000\n",
      "Test accuracy:  80.95451322810553\n",
      "Train accuracy:  80.95451322810553\n",
      "epoch: 8/5000\n",
      "Test accuracy:  80.95451322810553\n",
      "Train accuracy:  80.95451322810553\n",
      "epoch: 9/5000\n",
      "Test accuracy:  80.95451322810553\n",
      "Train accuracy:  80.95451322810553\n",
      "epoch: 10/5000\n",
      "Test accuracy:  80.95451322810553\n",
      "Train accuracy:  80.95451322810553\n",
      "epoch: 11/5000\n",
      "Test accuracy:  80.95451322810553\n",
      "Train accuracy:  80.95451322810553\n",
      "epoch: 12/5000\n",
      "Test accuracy:  80.95451322810553\n",
      "Train accuracy:  80.95451322810553\n",
      "epoch: 13/5000\n",
      "Test accuracy:  80.95451322810553\n",
      "Train accuracy:  80.95451322810553\n",
      "epoch: 14/5000\n",
      "Test accuracy:  80.95451322810553\n",
      "Train accuracy:  80.95451322810553\n",
      "epoch: 15/5000\n",
      "Test accuracy:  80.95451322810553\n",
      "Train accuracy:  80.95451322810553\n",
      "epoch: 16/5000\n",
      "Test accuracy:  80.95451322810553\n",
      "Train accuracy:  80.95451322810553\n",
      "epoch: 17/5000\n",
      "Test accuracy:  80.95451322810553\n",
      "Train accuracy:  80.95451322810553\n",
      "epoch: 18/5000\n",
      "Test accuracy:  80.95451322810553\n",
      "Train accuracy:  80.95451322810553\n",
      "epoch: 19/5000\n",
      "Test accuracy:  80.95451322810553\n",
      "Train accuracy:  80.95451322810553\n",
      "epoch: 20/5000\n",
      "Test accuracy:  80.95451322810553\n",
      "Train accuracy:  80.95451322810553\n",
      "epoch: 21/5000\n",
      "Test accuracy:  80.95451322810553\n",
      "Train accuracy:  80.95451322810553\n",
      "epoch: 22/5000\n",
      "Test accuracy:  80.95451322810553\n",
      "Train accuracy:  80.95451322810553\n",
      "epoch: 23/5000\n",
      "Test accuracy:  80.95451322810553\n",
      "Train accuracy:  80.95451322810553\n",
      "epoch: 24/5000\n",
      "Test accuracy:  80.95451322810553\n",
      "Train accuracy:  80.95451322810553\n",
      "epoch: 25/5000\n",
      "Test accuracy:  80.95451322810553\n",
      "Train accuracy:  80.95451322810553\n",
      "epoch: 26/5000\n",
      "Test accuracy:  80.95451322810553\n",
      "Train accuracy:  80.95451322810553\n",
      "epoch: 27/5000\n",
      "Test accuracy:  80.95451322810553\n",
      "Train accuracy:  80.95451322810553\n",
      "epoch: 28/5000\n",
      "Test accuracy:  80.95451322810553\n",
      "Train accuracy:  80.95451322810553\n",
      "epoch: 29/5000\n",
      "Test accuracy:  80.95451322810553\n",
      "Train accuracy:  80.95451322810553\n",
      "epoch: 30/5000\n",
      "Test accuracy:  80.95451322810553\n",
      "Train accuracy:  80.95451322810553\n",
      "epoch: 31/5000\n",
      "Test accuracy:  80.95451322810553\n",
      "Train accuracy:  80.95451322810553\n",
      "epoch: 32/5000\n",
      "Test accuracy:  80.95451322810553\n",
      "Train accuracy:  80.95451322810553\n",
      "epoch: 33/5000\n",
      "Test accuracy:  80.95451322810553\n",
      "Train accuracy:  80.95451322810553\n",
      "epoch: 34/5000\n",
      "Test accuracy:  80.95451322810553\n",
      "Train accuracy:  80.95451322810553\n",
      "epoch: 35/5000\n",
      "Test accuracy:  80.95451322810553\n",
      "Train accuracy:  80.95451322810553\n",
      "epoch: 36/5000\n",
      "Test accuracy:  80.95451322810553\n",
      "Train accuracy:  80.95451322810553\n",
      "epoch: 37/5000\n",
      "Test accuracy:  80.95451322810553\n",
      "Train accuracy:  80.95451322810553\n",
      "epoch: 38/5000\n",
      "Test accuracy:  80.95451322810553\n",
      "Train accuracy:  80.95451322810553\n",
      "epoch: 39/5000\n",
      "Test accuracy:  80.95451322810553\n",
      "Train accuracy:  80.95451322810553\n",
      "epoch: 40/5000\n",
      "Test accuracy:  80.95451322810553\n",
      "Train accuracy:  80.95451322810553\n",
      "epoch: 41/5000\n",
      "Test accuracy:  80.95451322810553\n",
      "Train accuracy:  80.95451322810553\n",
      "epoch: 42/5000\n",
      "Test accuracy:  80.95451322810553\n",
      "Train accuracy:  80.95451322810553\n",
      "epoch: 43/5000\n"
     ]
    },
    {
     "ename": "KeyboardInterrupt",
     "evalue": "",
     "output_type": "error",
     "traceback": [
      "\u001b[0;31m---------------------------------------------------------------------------\u001b[0m",
      "\u001b[0;31mKeyboardInterrupt\u001b[0m                         Traceback (most recent call last)",
      "Cell \u001b[0;32mIn[64], line 40\u001b[0m\n\u001b[1;32m     38\u001b[0m total \u001b[38;5;241m=\u001b[39m \u001b[38;5;241m0\u001b[39m\n\u001b[1;32m     39\u001b[0m \u001b[38;5;28;01mwith\u001b[39;00m torch\u001b[38;5;241m.\u001b[39mno_grad(): \u001b[38;5;66;03m# backpropogation işlemini durdurmak için (train bitti test zamanı) ( ÖNEMLİ !!! )\u001b[39;00m\n\u001b[0;32m---> 40\u001b[0m \u001b[43m    \u001b[49m\u001b[38;5;28;43;01mfor\u001b[39;49;00m\u001b[43m \u001b[49m\u001b[43mdata\u001b[49m\u001b[43m \u001b[49m\u001b[38;5;129;43;01min\u001b[39;49;00m\u001b[43m \u001b[49m\u001b[43mtestloader\u001b[49m\u001b[43m:\u001b[49m\n\u001b[1;32m     41\u001b[0m \u001b[43m        \u001b[49m\u001b[43mimages\u001b[49m\u001b[43m,\u001b[49m\u001b[43m \u001b[49m\u001b[43mlabels\u001b[49m\u001b[43m \u001b[49m\u001b[38;5;241;43m=\u001b[39;49m\u001b[43m \u001b[49m\u001b[43mdata\u001b[49m\n\u001b[1;32m     43\u001b[0m \u001b[43m        \u001b[49m\u001b[43mimages\u001b[49m\u001b[43m \u001b[49m\u001b[38;5;241;43m=\u001b[39;49m\u001b[43m \u001b[49m\u001b[43mimages\u001b[49m\u001b[38;5;241;43m.\u001b[39;49m\u001b[43mview\u001b[49m\u001b[43m(\u001b[49m\u001b[43mbatch_size\u001b[49m\u001b[43m,\u001b[49m\u001b[43m \u001b[49m\u001b[38;5;241;43m1\u001b[39;49m\u001b[43m,\u001b[49m\u001b[43m \u001b[49m\u001b[38;5;241;43m64\u001b[39;49m\u001b[43m,\u001b[49m\u001b[43m \u001b[49m\u001b[38;5;241;43m32\u001b[39;49m\u001b[43m)\u001b[49m\n",
      "File \u001b[0;32m~/Documents/python_env2/env/lib/python3.12/site-packages/torch/utils/data/dataloader.py:701\u001b[0m, in \u001b[0;36m_BaseDataLoaderIter.__next__\u001b[0;34m(self)\u001b[0m\n\u001b[1;32m    698\u001b[0m \u001b[38;5;28;01mif\u001b[39;00m \u001b[38;5;28mself\u001b[39m\u001b[38;5;241m.\u001b[39m_sampler_iter \u001b[38;5;129;01mis\u001b[39;00m \u001b[38;5;28;01mNone\u001b[39;00m:\n\u001b[1;32m    699\u001b[0m     \u001b[38;5;66;03m# TODO(https://github.com/pytorch/pytorch/issues/76750)\u001b[39;00m\n\u001b[1;32m    700\u001b[0m     \u001b[38;5;28mself\u001b[39m\u001b[38;5;241m.\u001b[39m_reset()  \u001b[38;5;66;03m# type: ignore[call-arg]\u001b[39;00m\n\u001b[0;32m--> 701\u001b[0m data \u001b[38;5;241m=\u001b[39m \u001b[38;5;28;43mself\u001b[39;49m\u001b[38;5;241;43m.\u001b[39;49m\u001b[43m_next_data\u001b[49m\u001b[43m(\u001b[49m\u001b[43m)\u001b[49m\n\u001b[1;32m    702\u001b[0m \u001b[38;5;28mself\u001b[39m\u001b[38;5;241m.\u001b[39m_num_yielded \u001b[38;5;241m+\u001b[39m\u001b[38;5;241m=\u001b[39m \u001b[38;5;241m1\u001b[39m\n\u001b[1;32m    703\u001b[0m \u001b[38;5;28;01mif\u001b[39;00m (\n\u001b[1;32m    704\u001b[0m     \u001b[38;5;28mself\u001b[39m\u001b[38;5;241m.\u001b[39m_dataset_kind \u001b[38;5;241m==\u001b[39m _DatasetKind\u001b[38;5;241m.\u001b[39mIterable\n\u001b[1;32m    705\u001b[0m     \u001b[38;5;129;01mand\u001b[39;00m \u001b[38;5;28mself\u001b[39m\u001b[38;5;241m.\u001b[39m_IterableDataset_len_called \u001b[38;5;129;01mis\u001b[39;00m \u001b[38;5;129;01mnot\u001b[39;00m \u001b[38;5;28;01mNone\u001b[39;00m\n\u001b[1;32m    706\u001b[0m     \u001b[38;5;129;01mand\u001b[39;00m \u001b[38;5;28mself\u001b[39m\u001b[38;5;241m.\u001b[39m_num_yielded \u001b[38;5;241m>\u001b[39m \u001b[38;5;28mself\u001b[39m\u001b[38;5;241m.\u001b[39m_IterableDataset_len_called\n\u001b[1;32m    707\u001b[0m ):\n",
      "File \u001b[0;32m~/Documents/python_env2/env/lib/python3.12/site-packages/torch/utils/data/dataloader.py:757\u001b[0m, in \u001b[0;36m_SingleProcessDataLoaderIter._next_data\u001b[0;34m(self)\u001b[0m\n\u001b[1;32m    755\u001b[0m \u001b[38;5;28;01mdef\u001b[39;00m \u001b[38;5;21m_next_data\u001b[39m(\u001b[38;5;28mself\u001b[39m):\n\u001b[1;32m    756\u001b[0m     index \u001b[38;5;241m=\u001b[39m \u001b[38;5;28mself\u001b[39m\u001b[38;5;241m.\u001b[39m_next_index()  \u001b[38;5;66;03m# may raise StopIteration\u001b[39;00m\n\u001b[0;32m--> 757\u001b[0m     data \u001b[38;5;241m=\u001b[39m \u001b[38;5;28;43mself\u001b[39;49m\u001b[38;5;241;43m.\u001b[39;49m\u001b[43m_dataset_fetcher\u001b[49m\u001b[38;5;241;43m.\u001b[39;49m\u001b[43mfetch\u001b[49m\u001b[43m(\u001b[49m\u001b[43mindex\u001b[49m\u001b[43m)\u001b[49m  \u001b[38;5;66;03m# may raise StopIteration\u001b[39;00m\n\u001b[1;32m    758\u001b[0m     \u001b[38;5;28;01mif\u001b[39;00m \u001b[38;5;28mself\u001b[39m\u001b[38;5;241m.\u001b[39m_pin_memory:\n\u001b[1;32m    759\u001b[0m         data \u001b[38;5;241m=\u001b[39m _utils\u001b[38;5;241m.\u001b[39mpin_memory\u001b[38;5;241m.\u001b[39mpin_memory(data, \u001b[38;5;28mself\u001b[39m\u001b[38;5;241m.\u001b[39m_pin_memory_device)\n",
      "File \u001b[0;32m~/Documents/python_env2/env/lib/python3.12/site-packages/torch/utils/data/_utils/fetch.py:55\u001b[0m, in \u001b[0;36m_MapDatasetFetcher.fetch\u001b[0;34m(self, possibly_batched_index)\u001b[0m\n\u001b[1;32m     53\u001b[0m \u001b[38;5;28;01melse\u001b[39;00m:\n\u001b[1;32m     54\u001b[0m     data \u001b[38;5;241m=\u001b[39m \u001b[38;5;28mself\u001b[39m\u001b[38;5;241m.\u001b[39mdataset[possibly_batched_index]\n\u001b[0;32m---> 55\u001b[0m \u001b[38;5;28;01mreturn\u001b[39;00m \u001b[38;5;28;43mself\u001b[39;49m\u001b[38;5;241;43m.\u001b[39;49m\u001b[43mcollate_fn\u001b[49m\u001b[43m(\u001b[49m\u001b[43mdata\u001b[49m\u001b[43m)\u001b[49m\n",
      "File \u001b[0;32m~/Documents/python_env2/env/lib/python3.12/site-packages/torch/utils/data/_utils/collate.py:398\u001b[0m, in \u001b[0;36mdefault_collate\u001b[0;34m(batch)\u001b[0m\n\u001b[1;32m    337\u001b[0m \u001b[38;5;28;01mdef\u001b[39;00m \u001b[38;5;21mdefault_collate\u001b[39m(batch):\n\u001b[1;32m    338\u001b[0m \u001b[38;5;250m    \u001b[39m\u001b[38;5;124mr\u001b[39m\u001b[38;5;124;03m\"\"\"\u001b[39;00m\n\u001b[1;32m    339\u001b[0m \u001b[38;5;124;03m    Take in a batch of data and put the elements within the batch into a tensor with an additional outer dimension - batch size.\u001b[39;00m\n\u001b[1;32m    340\u001b[0m \n\u001b[0;32m   (...)\u001b[0m\n\u001b[1;32m    396\u001b[0m \u001b[38;5;124;03m        >>> default_collate(batch)  # Handle `CustomType` automatically\u001b[39;00m\n\u001b[1;32m    397\u001b[0m \u001b[38;5;124;03m    \"\"\"\u001b[39;00m\n\u001b[0;32m--> 398\u001b[0m     \u001b[38;5;28;01mreturn\u001b[39;00m \u001b[43mcollate\u001b[49m\u001b[43m(\u001b[49m\u001b[43mbatch\u001b[49m\u001b[43m,\u001b[49m\u001b[43m \u001b[49m\u001b[43mcollate_fn_map\u001b[49m\u001b[38;5;241;43m=\u001b[39;49m\u001b[43mdefault_collate_fn_map\u001b[49m\u001b[43m)\u001b[49m\n",
      "File \u001b[0;32m~/Documents/python_env2/env/lib/python3.12/site-packages/torch/utils/data/_utils/collate.py:212\u001b[0m, in \u001b[0;36mcollate\u001b[0;34m(batch, collate_fn_map)\u001b[0m\n\u001b[1;32m    208\u001b[0m transposed \u001b[38;5;241m=\u001b[39m \u001b[38;5;28mlist\u001b[39m(\u001b[38;5;28mzip\u001b[39m(\u001b[38;5;241m*\u001b[39mbatch))  \u001b[38;5;66;03m# It may be accessed twice, so we use a list.\u001b[39;00m\n\u001b[1;32m    210\u001b[0m \u001b[38;5;28;01mif\u001b[39;00m \u001b[38;5;28misinstance\u001b[39m(elem, \u001b[38;5;28mtuple\u001b[39m):\n\u001b[1;32m    211\u001b[0m     \u001b[38;5;28;01mreturn\u001b[39;00m [\n\u001b[0;32m--> 212\u001b[0m         \u001b[43mcollate\u001b[49m\u001b[43m(\u001b[49m\u001b[43msamples\u001b[49m\u001b[43m,\u001b[49m\u001b[43m \u001b[49m\u001b[43mcollate_fn_map\u001b[49m\u001b[38;5;241;43m=\u001b[39;49m\u001b[43mcollate_fn_map\u001b[49m\u001b[43m)\u001b[49m\n\u001b[1;32m    213\u001b[0m         \u001b[38;5;28;01mfor\u001b[39;00m samples \u001b[38;5;129;01min\u001b[39;00m transposed\n\u001b[1;32m    214\u001b[0m     ]  \u001b[38;5;66;03m# Backwards compatibility.\u001b[39;00m\n\u001b[1;32m    215\u001b[0m \u001b[38;5;28;01melse\u001b[39;00m:\n\u001b[1;32m    216\u001b[0m     \u001b[38;5;28;01mtry\u001b[39;00m:\n",
      "File \u001b[0;32m~/Documents/python_env2/env/lib/python3.12/site-packages/torch/utils/data/_utils/collate.py:155\u001b[0m, in \u001b[0;36mcollate\u001b[0;34m(batch, collate_fn_map)\u001b[0m\n\u001b[1;32m    153\u001b[0m \u001b[38;5;28;01mif\u001b[39;00m collate_fn_map \u001b[38;5;129;01mis\u001b[39;00m \u001b[38;5;129;01mnot\u001b[39;00m \u001b[38;5;28;01mNone\u001b[39;00m:\n\u001b[1;32m    154\u001b[0m     \u001b[38;5;28;01mif\u001b[39;00m elem_type \u001b[38;5;129;01min\u001b[39;00m collate_fn_map:\n\u001b[0;32m--> 155\u001b[0m         \u001b[38;5;28;01mreturn\u001b[39;00m \u001b[43mcollate_fn_map\u001b[49m\u001b[43m[\u001b[49m\u001b[43melem_type\u001b[49m\u001b[43m]\u001b[49m\u001b[43m(\u001b[49m\u001b[43mbatch\u001b[49m\u001b[43m,\u001b[49m\u001b[43m \u001b[49m\u001b[43mcollate_fn_map\u001b[49m\u001b[38;5;241;43m=\u001b[39;49m\u001b[43mcollate_fn_map\u001b[49m\u001b[43m)\u001b[49m\n\u001b[1;32m    157\u001b[0m     \u001b[38;5;28;01mfor\u001b[39;00m collate_type \u001b[38;5;129;01min\u001b[39;00m collate_fn_map:\n\u001b[1;32m    158\u001b[0m         \u001b[38;5;28;01mif\u001b[39;00m \u001b[38;5;28misinstance\u001b[39m(elem, collate_type):\n",
      "File \u001b[0;32m~/Documents/python_env2/env/lib/python3.12/site-packages/torch/utils/data/_utils/collate.py:272\u001b[0m, in \u001b[0;36mcollate_tensor_fn\u001b[0;34m(batch, collate_fn_map)\u001b[0m\n\u001b[1;32m    270\u001b[0m     storage \u001b[38;5;241m=\u001b[39m elem\u001b[38;5;241m.\u001b[39m_typed_storage()\u001b[38;5;241m.\u001b[39m_new_shared(numel, device\u001b[38;5;241m=\u001b[39melem\u001b[38;5;241m.\u001b[39mdevice)\n\u001b[1;32m    271\u001b[0m     out \u001b[38;5;241m=\u001b[39m elem\u001b[38;5;241m.\u001b[39mnew(storage)\u001b[38;5;241m.\u001b[39mresize_(\u001b[38;5;28mlen\u001b[39m(batch), \u001b[38;5;241m*\u001b[39m\u001b[38;5;28mlist\u001b[39m(elem\u001b[38;5;241m.\u001b[39msize()))\n\u001b[0;32m--> 272\u001b[0m \u001b[38;5;28;01mreturn\u001b[39;00m \u001b[43mtorch\u001b[49m\u001b[38;5;241;43m.\u001b[39;49m\u001b[43mstack\u001b[49m\u001b[43m(\u001b[49m\u001b[43mbatch\u001b[49m\u001b[43m,\u001b[49m\u001b[43m \u001b[49m\u001b[38;5;241;43m0\u001b[39;49m\u001b[43m,\u001b[49m\u001b[43m \u001b[49m\u001b[43mout\u001b[49m\u001b[38;5;241;43m=\u001b[39;49m\u001b[43mout\u001b[49m\u001b[43m)\u001b[49m\n",
      "\u001b[0;31mKeyboardInterrupt\u001b[0m: "
     ]
    }
   ],
   "source": [
    "start = time.time()\n",
    "\n",
    "train_acc = []\n",
    "test_acc = []\n",
    "loss_list = []\n",
    "\n",
    "use_gpu = True\n",
    "step_counter=0\n",
    "for epoch in range(num_epochs):\n",
    "    step_counter += 1\n",
    "    print(\"epoch: {}/{}\".format(step_counter,num_epochs))\n",
    "    for i, data in enumerate(trainloader,0):\n",
    "        inputs, labels = data # Buradaki inputun size'ı şu şekilde = [batch_size, 64*32] (bunu istemiyoruz)\n",
    "        inputs = inputs.view(batch_size, 1 , 64, 32) # reshape\n",
    "        inputs = inputs.float() \n",
    "\n",
    "        if use_gpu:\n",
    "            if torch.backends.mps.is_available():\n",
    "                inputs, labels = inputs.to(device), labels.to(device)\n",
    "            \n",
    "        # zero gradient (Başlangıçta türevler otomatik olarak sıfırlanmadığı için elle sıfırlıyoruz)\n",
    "        optimizer.zero_grad()\n",
    "\n",
    "        # forward\n",
    "        outputs = net(inputs)\n",
    "\n",
    "        # loss\n",
    "        loss = criterion(outputs, labels)\n",
    "        \n",
    "        # backpropogation\n",
    "        loss.backward()\n",
    "\n",
    "        # update weights\n",
    "        optimizer.step()\n",
    "    \n",
    "    # test\n",
    "    correct = 0\n",
    "    total = 0\n",
    "    with torch.no_grad(): # backpropogation işlemini durdurmak için (train bitti test zamanı) ( ÖNEMLİ !!! )\n",
    "        for data in testloader:\n",
    "            images, labels = data\n",
    "\n",
    "            images = images.view(batch_size, 1, 64, 32)\n",
    "            images = images.float()\n",
    "\n",
    "            if use_gpu:\n",
    "                if torch.backends.mps.is_available():\n",
    "                    images, labels = images.to(device), labels.to(device)\n",
    "\n",
    "            output = net(images)\n",
    "\n",
    "            _ , predicted = torch.max(outputs.data,1)  # Biz sadece ikinci değeri (indeksleri) kullanmak istiyoruz. İlk dönen değeri kullanmayacağımız için Python'da geleneksel olarak \"_\" değişkeni ile tutuyoruz.\n",
    "            total += labels.size(0) # sıfırıncı index\n",
    "            correct += (predicted == labels).sum().item() # item fonksiyonu çıkan sonucu gerçek intager sayıya çevirmek için\n",
    "\n",
    "    acc1 = 100*correct/total\n",
    "    print(\"Test accuracy: \", acc1)\n",
    "    test_acc.append(acc1)\n",
    "\n",
    "    # train\n",
    "    correct = 0\n",
    "    total = 0\n",
    "    with torch.no_grad(): # backpropogation işlemini durdurmak için (train bitti test zamanı)\n",
    "        for data in trainloader:\n",
    "            images, labels = data\n",
    "\n",
    "            images = images.view(batch_size, 1, 64, 32)\n",
    "            images = images.float()\n",
    "\n",
    "            if use_gpu:\n",
    "                if torch.backends.mps.is_available():\n",
    "                    images, labels = images.to(device), labels.to(device)\n",
    "\n",
    "            output = net(images)\n",
    "\n",
    "            _ , predicted = torch.max(outputs.data,1)  # Biz sadece ikinci değeri (indeksleri) kullanmak istiyoruz. İlk dönen değeri kullanmayacağımız için Python'da geleneksel olarak \"_\" değişkeni ile tutuyoruz.\n",
    "            total += labels.size(0) # sıfırıncı index\n",
    "            correct += (predicted == labels).sum().item() # item fonksiyonu çıkan sonucu gerçek intager sayıya çevirmek için\n",
    "\n",
    "    acc2 = 100*correct/total\n",
    "    print(\"Train accuracy: \", acc2)\n",
    "    train_acc.append(acc2)\n",
    "\n",
    "print(\"Training Done!\")\n",
    "\n",
    "end = time.time()\n",
    "process_time = (end-start)/60\n",
    "print(\"process time: \",process_time)"
   ]
  },
  {
   "cell_type": "code",
   "execution_count": null,
   "metadata": {},
   "outputs": [],
   "source": []
  }
 ],
 "metadata": {
  "kernelspec": {
   "display_name": "env",
   "language": "python",
   "name": "python3"
  },
  "language_info": {
   "codemirror_mode": {
    "name": "ipython",
    "version": 3
   },
   "file_extension": ".py",
   "mimetype": "text/x-python",
   "name": "python",
   "nbconvert_exporter": "python",
   "pygments_lexer": "ipython3",
   "version": "3.12.3"
  }
 },
 "nbformat": 4,
 "nbformat_minor": 2
}
